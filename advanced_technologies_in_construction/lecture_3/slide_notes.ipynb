{
 "cells": [
  {
   "cell_type": "code",
   "execution_count": 13,
   "metadata": {},
   "outputs": [],
   "source": [
    "# text type\n",
    "my_string = \"string\"\n",
    "# numeric types\n",
    "my_int = 5\n",
    "my_float = 5.5\n",
    "my_complex = 2+3j\n",
    "# sequence types\n",
    "my_list = [5,5,5,5]\n",
    "my_tuple = (4,4,4,4)\n",
    "my_range = range(5)\n",
    "# mapping \n",
    "my_dict = {\n",
    "    \"dict_val_1\":1,\n",
    "    \"dict_val_2\":2\n",
    "}\n",
    "# set types\n",
    "my_set = set(my_list)\n",
    "my_frozenset = frozenset(my_set)\n",
    "\n",
    "# boolean type\n",
    "my_boolean = True\n"
   ]
  },
  {
   "cell_type": "code",
   "execution_count": 14,
   "metadata": {},
   "outputs": [
    {
     "name": "stdout",
     "output_type": "stream",
     "text": [
      "0\n",
      "1\n",
      "2\n",
      "3\n",
      "4\n"
     ]
    }
   ],
   "source": [
    "my_range = range(5)\n",
    "for i in my_range:\n",
    "    print(i)"
   ]
  },
  {
   "cell_type": "code",
   "execution_count": 15,
   "metadata": {},
   "outputs": [
    {
     "name": "stdout",
     "output_type": "stream",
     "text": [
      "5\n",
      "5\n",
      "5\n",
      "5\n"
     ]
    }
   ],
   "source": [
    "my_list = [5,5,5,5]\n",
    "for element in my_list:\n",
    "    print(element)"
   ]
  },
  {
   "cell_type": "code",
   "execution_count": 17,
   "metadata": {},
   "outputs": [
    {
     "name": "stdout",
     "output_type": "stream",
     "text": [
      "['string', 5, 5.5, (2+3j), [5, 5, 5, 5], (4, 4, 4, 4), range(0, 5), {'dict_val_1': 1, 'dict_val_2': 2}, True]\n",
      "<class 'str'> = string\n",
      "<class 'int'> = 5\n",
      "<class 'float'> = 5.5\n",
      "<class 'complex'> = (2+3j)\n",
      "<class 'list'> = [5, 5, 5, 5]\n",
      "<class 'tuple'> = (4, 4, 4, 4)\n",
      "<class 'range'> = range(0, 5)\n",
      "<class 'dict'> = {'dict_val_1': 1, 'dict_val_2': 2}\n",
      "<class 'bool'> = True\n"
     ]
    }
   ],
   "source": [
    "my_mixed_list = [my_string, my_int, my_float, my_complex, my_list, my_tuple, my_range, my_dict, my_boolean]\n",
    "print(my_mixed_list)\n",
    "for element in my_mixed_list:\n",
    "    print(f\"{type(element)} = {element}\")"
   ]
  },
  {
   "cell_type": "code",
   "execution_count": null,
   "metadata": {},
   "outputs": [],
   "source": []
  }
 ],
 "metadata": {
  "interpreter": {
   "hash": "2be5faf79681da6f2a61fdfdd5405d65d042280f7fba6178067603e3a2925119"
  },
  "kernelspec": {
   "display_name": "Python 3.10.0 64-bit",
   "language": "python",
   "name": "python3"
  },
  "language_info": {
   "codemirror_mode": {
    "name": "ipython",
    "version": 3
   },
   "file_extension": ".py",
   "mimetype": "text/x-python",
   "name": "python",
   "nbconvert_exporter": "python",
   "pygments_lexer": "ipython3",
   "version": "3.9.7"
  },
  "orig_nbformat": 4
 },
 "nbformat": 4,
 "nbformat_minor": 2
}
