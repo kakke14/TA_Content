{
  "cells": [
    {
      "cell_type": "markdown",
      "metadata": {
        "id": "1jrlCqCEdkdN"
      },
      "source": [
        "<table align=\"center\">\n",
        "  \n",
        "</table>\n",
        "\n",
        "\n",
        "<table align=\"center\">\n",
        "<thead>\n",
        "  <tr>\n",
        "    <td align=\"center\"><a target=\"_blank\" href=\"https://cae.au.dk/en/research/key-areas-in-research-and-development/design-and-construction/construction-automation-and-information-technologies/people/\">\n",
        "        <img src=\"https://mbg.au.dk/fileadmin/site_files/mb/Logoer/au/aulogo.jpg\" style=\"padding-bottom:5px;\" height=\"70px\"/></a></td>\n",
        "      <td align=\"center\"><a target=\"_blank\" href=\"https://colab.research.google.com/github/kakke14/TA_Content/blob/master/advanced_technologies_in_construction/lecture_3/RTLS_Lecture.ipynb\">\n",
        "            <img src=\"https://i.ibb.co/2P3SLwK/colab.png\"  style=\"padding-bottom:5px;\"height=\"70px\" /></a></td>\n",
        "      <td align=\"center\"><a target=\"_blank\" href=\"https://github.com/kakke14/TA_Content\">\n",
        "            <img src=\"https://i.ibb.co/xfJbPmL/github.png\"  height=\"70px\" style=\"padding-bottom:5px;\"  /></a></td>\n",
        "            \n",
        "  </tr>\n",
        "</thead>\n",
        "<tbody>\n",
        "  <tr>\n",
        "    <td>Visit AU research Group</td>\n",
        "    <td>Run in Google Colab</td>\n",
        "    <td>View Source on GitHub</td>\n",
        "  </tr>\n",
        "</tbody>\n",
        "</table>"
      ]
    },
    {
      "cell_type": "code",
      "execution_count": 17,
      "metadata": {
        "id": "K4mqk9OkeZen"
      },
      "outputs": [],
      "source": [
        "# Copyright 2022 AU Digital Construction. All Rights Reserved.\n",
        "# \n",
        "# Use or modification of this code outside of the course should reference:\n",
        "# Emil L. Jacobsen, Karsten W. Johansen, and Christos Chronopoulos \n",
        "# Lecture Notes Digital Construction 2022"
      ]
    },
    {
      "cell_type": "markdown",
      "metadata": {
        "id": "b7b3p_nVe-fg"
      },
      "source": [
        "# Lecture 3 - Real Time Location Systems\n",
        "In this lecture you will get exposed to Python programming and location data. You will learn how to process the raw data output into tangible knowledge that can be used to analyze trajectories of construction assets.\n",
        "You will encounter several codeblocks with ***TO DO*** written in them. This is where you will have to follow the instructions and fill out the missing code before running the cell."
      ]
    },
    {
      "cell_type": "markdown",
      "metadata": {
        "id": "VjY5qfhGfHF4"
      },
      "source": [
        "## Install dependencies\n",
        "For all colab exercises, we will be needing several python libraries. Some of them will be repeating dependencies for all exercises, while other might only be used in certain examples. For this lecture, we will install the following\n",
        "\n",
        "These libraries are part of the Kernel running i Colab and are therefore redy to be imported with the following lines\n"
      ]
    },
    {
      "cell_type": "code",
      "execution_count": 34,
      "metadata": {
        "id": "uLgXvAkUjHQe"
      },
      "outputs": [],
      "source": [
        "import pandas as pd\n",
        "import matplotlib.pyplot as plt\n",
        "import numpy as np"
      ]
    },
    {
      "cell_type": "markdown",
      "metadata": {
        "id": "PL5cDX0FSliO"
      },
      "source": [
        "But how about a library that is not preinstalled ?? Unfortunately Traja is not.... \n",
        "\n",
        "\n",
        "\n",
        "\n"
      ]
    },
    {
      "cell_type": "code",
      "execution_count": 19,
      "metadata": {
        "id": "7Uo0uPdBVWYS"
      },
      "outputs": [],
      "source": [
        "# import traja"
      ]
    },
    {
      "cell_type": "markdown",
      "metadata": {
        "id": "xAF0bKOcV5eE"
      },
      "source": [
        "How do we get around missing libraries this ?? \n",
        "Normally it would just mean that we had to install the library with the python package manager called pip, using the command 'pip install [package name]'\n",
        "\n",
        "If that is not possible, here is [Hint](https://colab.research.google.com/notebooks/snippets/importing_libraries.ipynb)"
      ]
    },
    {
      "cell_type": "code",
      "execution_count": 20,
      "metadata": {
        "colab": {
          "base_uri": "https://localhost:8080/"
        },
        "id": "yTk7kxTbUgGG",
        "outputId": "6d386be1-37d6-4d83-99b8-4467f773f2e1"
      },
      "outputs": [],
      "source": [
        "#### TODO ####\n",
        "# Install Traja lib on the colab Kernel \n",
        "\n",
        "#### Sollution ####\n",
        "\n",
        "# !pip install Traja"
      ]
    },
    {
      "cell_type": "markdown",
      "metadata": {
        "id": "W93oxtHvUhR3"
      },
      "source": [
        "Hopefully you managed to install Traja and will be able to run the \"import traja\" line below. \n",
        "\n",
        "Most of the packages in python are well documented and an example is this library, which documentation is available in the following link.\n",
        "\n",
        "[Traja Docs](https://traja.readthedocs.io/en/latest/index.html)\n",
        "\n",
        "We are not going to use Traja just yet but now we knwo how to install libraries if these are not pre-installed"
      ]
    },
    {
      "cell_type": "code",
      "execution_count": 21,
      "metadata": {
        "id": "q1BU84UWSqyr"
      },
      "outputs": [],
      "source": [
        "import traja\n"
      ]
    },
    {
      "cell_type": "markdown",
      "metadata": {
        "id": "dVXFywR9XFfA"
      },
      "source": [
        "### Checkpoint 1\n",
        "Note the the following into a .txt file#\n",
        "\n",
        "1.   What command is used to install libraries in the python package manager?\n",
        "2.   What is needed in order to run the same command in colab?\n",
        "\n"
      ]
    },
    {
      "cell_type": "markdown",
      "metadata": {
        "id": "ea668Bi1Zog9"
      },
      "source": [
        "## Install the remaining libraries"
      ]
    },
    {
      "cell_type": "code",
      "execution_count": 22,
      "metadata": {
        "id": "TgicpKafYJhw"
      },
      "outputs": [],
      "source": [
        "#### TODO ####\n",
        "#install : \n",
        "# lib1\n",
        "# lib 2"
      ]
    },
    {
      "cell_type": "markdown",
      "metadata": {},
      "source": [
        "## Load the data\n",
        "For this part we are going to use pandas, which is a library for working with dataframes\n",
        "Pandas documentation: [Read function](https://pandas.pydata.org/docs/user_guide/io.html#io)\n",
        "\n",
        "The data that will be the subject for this lecture is RTLS data, more specifically UWB data recorded with the system that we used on the Demo day. \n",
        "The data is written as comma seperated data and the collomns correspond to:\n",
        "<Data Header>,<tag ID>,<X>,<Y>,<Z>,<battery>,<timestamp>,<unit>,<DQI>,<GDOP>,<Locate-Details>,<LF>\n"
      ]
    },
    {
      "cell_type": "code",
      "execution_count": 23,
      "metadata": {},
      "outputs": [
        {
          "data": {
            "text/html": [
              "<div>\n",
              "<style scoped>\n",
              "    .dataframe tbody tr th:only-of-type {\n",
              "        vertical-align: middle;\n",
              "    }\n",
              "\n",
              "    .dataframe tbody tr th {\n",
              "        vertical-align: top;\n",
              "    }\n",
              "\n",
              "    .dataframe thead th {\n",
              "        text-align: right;\n",
              "    }\n",
              "</style>\n",
              "<table border=\"1\" class=\"dataframe\">\n",
              "  <thead>\n",
              "    <tr style=\"text-align: right;\">\n",
              "      <th></th>\n",
              "      <th>Data_Header</th>\n",
              "      <th>tag_ID</th>\n",
              "      <th>X</th>\n",
              "      <th>Y</th>\n",
              "      <th>Z</th>\n",
              "      <th>battery</th>\n",
              "      <th>timestamp</th>\n",
              "      <th>unit</th>\n",
              "      <th>DQI</th>\n",
              "      <th>GDOP</th>\n",
              "      <th>Locate_Details</th>\n",
              "    </tr>\n",
              "  </thead>\n",
              "  <tbody>\n",
              "    <tr>\n",
              "      <th>0</th>\n",
              "      <td>T</td>\n",
              "      <td>0025CB03</td>\n",
              "      <td>12.14</td>\n",
              "      <td>12.50</td>\n",
              "      <td>1.52</td>\n",
              "      <td>12</td>\n",
              "      <td>1.618572e+09</td>\n",
              "      <td>1</td>\n",
              "      <td>0.11</td>\n",
              "      <td>G0.53</td>\n",
              "      <td>S01-S02-S04-S05</td>\n",
              "    </tr>\n",
              "    <tr>\n",
              "      <th>1</th>\n",
              "      <td>T</td>\n",
              "      <td>0025CB03</td>\n",
              "      <td>12.01</td>\n",
              "      <td>12.63</td>\n",
              "      <td>1.52</td>\n",
              "      <td>12</td>\n",
              "      <td>1.618572e+09</td>\n",
              "      <td>1</td>\n",
              "      <td>0.29</td>\n",
              "      <td>G0.53</td>\n",
              "      <td>S01-S02-S04-S05</td>\n",
              "    </tr>\n",
              "    <tr>\n",
              "      <th>2</th>\n",
              "      <td>T</td>\n",
              "      <td>0025CB03</td>\n",
              "      <td>12.06</td>\n",
              "      <td>12.67</td>\n",
              "      <td>1.52</td>\n",
              "      <td>12</td>\n",
              "      <td>1.618572e+09</td>\n",
              "      <td>1</td>\n",
              "      <td>1.01</td>\n",
              "      <td>G0.53</td>\n",
              "      <td>S01-S02-S04-S05</td>\n",
              "    </tr>\n",
              "    <tr>\n",
              "      <th>3</th>\n",
              "      <td>T</td>\n",
              "      <td>0025CB03</td>\n",
              "      <td>12.04</td>\n",
              "      <td>12.64</td>\n",
              "      <td>1.52</td>\n",
              "      <td>12</td>\n",
              "      <td>1.618572e+09</td>\n",
              "      <td>1</td>\n",
              "      <td>0.30</td>\n",
              "      <td>G0.53</td>\n",
              "      <td>S01-S02-S04-S05</td>\n",
              "    </tr>\n",
              "    <tr>\n",
              "      <th>4</th>\n",
              "      <td>T</td>\n",
              "      <td>0025CB03</td>\n",
              "      <td>12.01</td>\n",
              "      <td>12.62</td>\n",
              "      <td>1.52</td>\n",
              "      <td>12</td>\n",
              "      <td>1.618572e+09</td>\n",
              "      <td>1</td>\n",
              "      <td>0.29</td>\n",
              "      <td>G0.53</td>\n",
              "      <td>S04-S05-S01-S02</td>\n",
              "    </tr>\n",
              "  </tbody>\n",
              "</table>\n",
              "</div>"
            ],
            "text/plain": [
              "  Data_Header    tag_ID      X      Y     Z  battery     timestamp  unit  \\\n",
              "0           T  0025CB03  12.14  12.50  1.52       12  1.618572e+09     1   \n",
              "1           T  0025CB03  12.01  12.63  1.52       12  1.618572e+09     1   \n",
              "2           T  0025CB03  12.06  12.67  1.52       12  1.618572e+09     1   \n",
              "3           T  0025CB03  12.04  12.64  1.52       12  1.618572e+09     1   \n",
              "4           T  0025CB03  12.01  12.62  1.52       12  1.618572e+09     1   \n",
              "\n",
              "    DQI   GDOP   Locate_Details  \n",
              "0  0.11  G0.53  S01-S02-S04-S05  \n",
              "1  0.29  G0.53  S01-S02-S04-S05  \n",
              "2  1.01  G0.53  S01-S02-S04-S05  \n",
              "3  0.30  G0.53  S01-S02-S04-S05  \n",
              "4  0.29  G0.53  S04-S05-S01-S02  "
            ]
          },
          "execution_count": 23,
          "metadata": {},
          "output_type": "execute_result"
        }
      ],
      "source": [
        "df = pd.read_csv(\"A.txt\", names=[\"Data_Header\",\"tag_ID\",\"X\",\"Y\",\"Z\",\"battery\",\"timestamp\",\"unit\",\"DQI\",\"GDOP\",\"Locate_Details\"], converters = {'tag_ID': str})\n",
        "df.head()"
      ]
    },
    {
      "cell_type": "markdown",
      "metadata": {},
      "source": [
        "That was reading the data, it may be interesting to figure out how many tags that are present in the data\n",
        "but are there any smart ways to do so ? \n",
        "It would be interesting to find the number of unique values in the \"tag_ID\" coloumn ?"
      ]
    },
    {
      "cell_type": "code",
      "execution_count": 24,
      "metadata": {},
      "outputs": [
        {
          "name": "stdout",
          "output_type": "stream",
          "text": [
            "There exists 5 in the tag_ID column and their IDs are: \n",
            " ['0025CB03' '0025C9EB' '0025C9E6' '0025CAF6' '0025CB05']\n"
          ]
        }
      ],
      "source": [
        "unique_tags = df.tag_ID.unique()\n",
        "number_of_unique_tags = len(unique_tags)\n",
        "print(f\"There exists {number_of_unique_tags} in the tag_ID column and their IDs are: \\n {unique_tags}\")\n"
      ]
    },
    {
      "cell_type": "markdown",
      "metadata": {},
      "source": [
        "Now, what is the total duration of the data collected?\n",
        "Could ve use max and min value of a column? \n",
        "Does the time format seem wierd? [epoch time](https://www.epochconverter.com/)"
      ]
    },
    {
      "cell_type": "code",
      "execution_count": 25,
      "metadata": {},
      "outputs": [
        {
          "data": {
            "text/html": [
              "<div>\n",
              "<style scoped>\n",
              "    .dataframe tbody tr th:only-of-type {\n",
              "        vertical-align: middle;\n",
              "    }\n",
              "\n",
              "    .dataframe tbody tr th {\n",
              "        vertical-align: top;\n",
              "    }\n",
              "\n",
              "    .dataframe thead th {\n",
              "        text-align: right;\n",
              "    }\n",
              "</style>\n",
              "<table border=\"1\" class=\"dataframe\">\n",
              "  <thead>\n",
              "    <tr style=\"text-align: right;\">\n",
              "      <th></th>\n",
              "      <th>Data_Header</th>\n",
              "      <th>tag_ID</th>\n",
              "      <th>X</th>\n",
              "      <th>Y</th>\n",
              "      <th>Z</th>\n",
              "      <th>battery</th>\n",
              "      <th>timestamp</th>\n",
              "      <th>unit</th>\n",
              "      <th>DQI</th>\n",
              "      <th>GDOP</th>\n",
              "      <th>Locate_Details</th>\n",
              "    </tr>\n",
              "  </thead>\n",
              "  <tbody>\n",
              "    <tr>\n",
              "      <th>0</th>\n",
              "      <td>T</td>\n",
              "      <td>0025CB03</td>\n",
              "      <td>12.14</td>\n",
              "      <td>12.50</td>\n",
              "      <td>1.52</td>\n",
              "      <td>12</td>\n",
              "      <td>2021-04-16 11:16:20.170000128</td>\n",
              "      <td>1</td>\n",
              "      <td>0.11</td>\n",
              "      <td>G0.53</td>\n",
              "      <td>S01-S02-S04-S05</td>\n",
              "    </tr>\n",
              "    <tr>\n",
              "      <th>1</th>\n",
              "      <td>T</td>\n",
              "      <td>0025CB03</td>\n",
              "      <td>12.01</td>\n",
              "      <td>12.63</td>\n",
              "      <td>1.52</td>\n",
              "      <td>12</td>\n",
              "      <td>2021-04-16 11:16:20.306999808</td>\n",
              "      <td>1</td>\n",
              "      <td>0.29</td>\n",
              "      <td>G0.53</td>\n",
              "      <td>S01-S02-S04-S05</td>\n",
              "    </tr>\n",
              "    <tr>\n",
              "      <th>2</th>\n",
              "      <td>T</td>\n",
              "      <td>0025CB03</td>\n",
              "      <td>12.06</td>\n",
              "      <td>12.67</td>\n",
              "      <td>1.52</td>\n",
              "      <td>12</td>\n",
              "      <td>2021-04-16 11:16:20.441999872</td>\n",
              "      <td>1</td>\n",
              "      <td>1.01</td>\n",
              "      <td>G0.53</td>\n",
              "      <td>S01-S02-S04-S05</td>\n",
              "    </tr>\n",
              "    <tr>\n",
              "      <th>3</th>\n",
              "      <td>T</td>\n",
              "      <td>0025CB03</td>\n",
              "      <td>12.04</td>\n",
              "      <td>12.64</td>\n",
              "      <td>1.52</td>\n",
              "      <td>12</td>\n",
              "      <td>2021-04-16 11:16:20.579000064</td>\n",
              "      <td>1</td>\n",
              "      <td>0.30</td>\n",
              "      <td>G0.53</td>\n",
              "      <td>S01-S02-S04-S05</td>\n",
              "    </tr>\n",
              "    <tr>\n",
              "      <th>4</th>\n",
              "      <td>T</td>\n",
              "      <td>0025CB03</td>\n",
              "      <td>12.01</td>\n",
              "      <td>12.62</td>\n",
              "      <td>1.52</td>\n",
              "      <td>12</td>\n",
              "      <td>2021-04-16 11:16:20.716999936</td>\n",
              "      <td>1</td>\n",
              "      <td>0.29</td>\n",
              "      <td>G0.53</td>\n",
              "      <td>S04-S05-S01-S02</td>\n",
              "    </tr>\n",
              "    <tr>\n",
              "      <th>...</th>\n",
              "      <td>...</td>\n",
              "      <td>...</td>\n",
              "      <td>...</td>\n",
              "      <td>...</td>\n",
              "      <td>...</td>\n",
              "      <td>...</td>\n",
              "      <td>...</td>\n",
              "      <td>...</td>\n",
              "      <td>...</td>\n",
              "      <td>...</td>\n",
              "      <td>...</td>\n",
              "    </tr>\n",
              "    <tr>\n",
              "      <th>4690</th>\n",
              "      <td>T</td>\n",
              "      <td>0025C9EB</td>\n",
              "      <td>7.86</td>\n",
              "      <td>2.75</td>\n",
              "      <td>1.52</td>\n",
              "      <td>12</td>\n",
              "      <td>2021-04-16 11:19:15.657000192</td>\n",
              "      <td>1</td>\n",
              "      <td>0.00</td>\n",
              "      <td>G0.53</td>\n",
              "      <td>S01-S02-S04-S05</td>\n",
              "    </tr>\n",
              "    <tr>\n",
              "      <th>4691</th>\n",
              "      <td>T</td>\n",
              "      <td>0025CAF6</td>\n",
              "      <td>2.54</td>\n",
              "      <td>0.30</td>\n",
              "      <td>1.52</td>\n",
              "      <td>12</td>\n",
              "      <td>2021-04-16 11:19:15.726000128</td>\n",
              "      <td>1</td>\n",
              "      <td>0.85</td>\n",
              "      <td>G0.62</td>\n",
              "      <td>S04-S05-S01-S02</td>\n",
              "    </tr>\n",
              "    <tr>\n",
              "      <th>4692</th>\n",
              "      <td>T</td>\n",
              "      <td>0025CB03</td>\n",
              "      <td>11.93</td>\n",
              "      <td>12.45</td>\n",
              "      <td>1.52</td>\n",
              "      <td>12</td>\n",
              "      <td>2021-04-16 11:19:15.746000128</td>\n",
              "      <td>1</td>\n",
              "      <td>0.36</td>\n",
              "      <td>G0.53</td>\n",
              "      <td>S01-S02-S04-S05</td>\n",
              "    </tr>\n",
              "    <tr>\n",
              "      <th>4693</th>\n",
              "      <td>T</td>\n",
              "      <td>0025CB05</td>\n",
              "      <td>1.51</td>\n",
              "      <td>11.68</td>\n",
              "      <td>1.52</td>\n",
              "      <td>12</td>\n",
              "      <td>2021-04-16 11:19:15.788999936</td>\n",
              "      <td>1</td>\n",
              "      <td>*</td>\n",
              "      <td>G1.10</td>\n",
              "      <td>S01-S04-S05</td>\n",
              "    </tr>\n",
              "    <tr>\n",
              "      <th>4694</th>\n",
              "      <td>T</td>\n",
              "      <td>0025C9EB</td>\n",
              "      <td>7.85</td>\n",
              "      <td>2.51</td>\n",
              "      <td>1.52</td>\n",
              "      <td>12</td>\n",
              "      <td>2021-04-16 11:19:15.792000000</td>\n",
              "      <td>1</td>\n",
              "      <td>0.00</td>\n",
              "      <td>G0.53</td>\n",
              "      <td>S01-S02-S04-S05</td>\n",
              "    </tr>\n",
              "  </tbody>\n",
              "</table>\n",
              "<p>4695 rows × 11 columns</p>\n",
              "</div>"
            ],
            "text/plain": [
              "     Data_Header    tag_ID      X      Y     Z  battery  \\\n",
              "0              T  0025CB03  12.14  12.50  1.52       12   \n",
              "1              T  0025CB03  12.01  12.63  1.52       12   \n",
              "2              T  0025CB03  12.06  12.67  1.52       12   \n",
              "3              T  0025CB03  12.04  12.64  1.52       12   \n",
              "4              T  0025CB03  12.01  12.62  1.52       12   \n",
              "...          ...       ...    ...    ...   ...      ...   \n",
              "4690           T  0025C9EB   7.86   2.75  1.52       12   \n",
              "4691           T  0025CAF6   2.54   0.30  1.52       12   \n",
              "4692           T  0025CB03  11.93  12.45  1.52       12   \n",
              "4693           T  0025CB05   1.51  11.68  1.52       12   \n",
              "4694           T  0025C9EB   7.85   2.51  1.52       12   \n",
              "\n",
              "                         timestamp  unit   DQI   GDOP   Locate_Details  \n",
              "0    2021-04-16 11:16:20.170000128     1  0.11  G0.53  S01-S02-S04-S05  \n",
              "1    2021-04-16 11:16:20.306999808     1  0.29  G0.53  S01-S02-S04-S05  \n",
              "2    2021-04-16 11:16:20.441999872     1  1.01  G0.53  S01-S02-S04-S05  \n",
              "3    2021-04-16 11:16:20.579000064     1  0.30  G0.53  S01-S02-S04-S05  \n",
              "4    2021-04-16 11:16:20.716999936     1  0.29  G0.53  S04-S05-S01-S02  \n",
              "...                            ...   ...   ...    ...              ...  \n",
              "4690 2021-04-16 11:19:15.657000192     1  0.00  G0.53  S01-S02-S04-S05  \n",
              "4691 2021-04-16 11:19:15.726000128     1  0.85  G0.62  S04-S05-S01-S02  \n",
              "4692 2021-04-16 11:19:15.746000128     1  0.36  G0.53  S01-S02-S04-S05  \n",
              "4693 2021-04-16 11:19:15.788999936     1     *  G1.10      S01-S04-S05  \n",
              "4694 2021-04-16 11:19:15.792000000     1  0.00  G0.53  S01-S02-S04-S05  \n",
              "\n",
              "[4695 rows x 11 columns]"
            ]
          },
          "execution_count": 25,
          "metadata": {},
          "output_type": "execute_result"
        }
      ],
      "source": [
        "df.timestamp = pd.to_datetime(df.timestamp.values.astype(float),unit='s')\n",
        "df"
      ]
    },
    {
      "cell_type": "markdown",
      "metadata": {},
      "source": [
        "That format seems more normal \n",
        "Now we just need to find the min and max value [min and max](https://www.kite.com/python/answers/how-to-find-the-max-value-of-a-pandas-dataframe-column-in-python)"
      ]
    },
    {
      "cell_type": "code",
      "execution_count": 26,
      "metadata": {},
      "outputs": [
        {
          "name": "stdout",
          "output_type": "stream",
          "text": [
            "0 days 00:02:55.621999872\n"
          ]
        }
      ],
      "source": [
        "min = df.timestamp.min()\n",
        "max = df.timestamp.max()\n",
        "duration = max-min\n",
        "print(duration)"
      ]
    },
    {
      "cell_type": "markdown",
      "metadata": {},
      "source": [
        "Now we know how many tags that are in the data, and the duration\n",
        "\n",
        "what if we did this calculation for all tags, to see if they were active for the fulle duration"
      ]
    },
    {
      "cell_type": "code",
      "execution_count": 27,
      "metadata": {},
      "outputs": [
        {
          "name": "stdout",
          "output_type": "stream",
          "text": [
            "the data duration for tag 0025CB03 is  0 days 00:02:55.576000\n",
            "the data duration for tag 0025C9EB is  0 days 00:02:54.980999936\n",
            "the data duration for tag 0025C9E6 is  0 days 00:02:54.399000320\n",
            "the data duration for tag 0025CAF6 is  0 days 00:02:54.656000256\n",
            "the data duration for tag 0025CB05 is  0 days 00:02:45.862999808\n"
          ]
        }
      ],
      "source": [
        "for tag in unique_tags:\n",
        "    min = df.loc[df.tag_ID==tag].timestamp.min()\n",
        "    max = df.loc[df.tag_ID==tag].timestamp.max()\n",
        "    duration = max-min\n",
        "    print(f\"the data duration for tag {tag} is  {duration}\")"
      ]
    },
    {
      "cell_type": "markdown",
      "metadata": {},
      "source": [
        "## Checkpoint 2\n",
        "\n",
        "What is the percentage duration of each tag relative to the tag that has the longest duration?\n",
        "\n",
        "Extend the above code to calculate this"
      ]
    },
    {
      "cell_type": "code",
      "execution_count": 39,
      "metadata": {},
      "outputs": [
        {
          "name": "stdout",
          "output_type": "stream",
          "text": [
            "0 days 00:02:55.576000\n",
            "the data duration for tag 0025CB03 is 0 days 00:02:55.576000 ~ 100.0%\n",
            "the data duration for tag 0025C9EB is 0 days 00:02:54.980999936 ~ 99.66%\n",
            "the data duration for tag 0025C9E6 is 0 days 00:02:54.399000320 ~ 99.33%\n",
            "the data duration for tag 0025CAF6 is 0 days 00:02:54.656000256 ~ 99.48%\n",
            "the data duration for tag 0025CB05 is 0 days 00:02:45.862999808 ~ 94.47%\n"
          ]
        }
      ],
      "source": [
        "durations = []\n",
        "\n",
        "for tag in unique_tags:\n",
        "    min = df.loc[df.tag_ID==tag].timestamp.min()\n",
        "    max = df.loc[df.tag_ID==tag].timestamp.max()\n",
        "    duration = max-min\n",
        "    durations.append(duration)\n",
        "    # print(f\"the data duration for tag {tag} is  {duration}\")\n",
        "max_duration = np.max(durations)\n",
        "print(max_duration)\n",
        "for tag in unique_tags:\n",
        "    min = df.loc[df.tag_ID==tag].timestamp.min()\n",
        "    max = df.loc[df.tag_ID==tag].timestamp.max()\n",
        "    duration = max-min\n",
        "    pct_duration = round((duration/max_duration)*100,2)\n",
        "    print(f\"the data duration for tag {tag} is {duration} ~ {pct_duration}%\")\n"
      ]
    },
    {
      "cell_type": "markdown",
      "metadata": {},
      "source": [
        "## Plotting the trajectory data\n",
        "In python there are several libraries for plotting data, and Matplitlib is one of those. Matplotlib offers a great amout of features (if you are used to matlab, matplotlib can do the same, but maybe in a different way)\n",
        "\n",
        "[Matplotlib tutorial](https://matplotlib.org/stable/tutorials/introductory/pyplot.html)\n",
        "\n",
        "The tutorial contains this example, which we will take inspiration from (but slightly change):\n",
        "\n",
        "```\n",
        "names = ['group_a', 'group_b', 'group_c']\n",
        "values = [1, 10, 100]\n",
        "\n",
        "plt.figure(figsize=(9, 3))\n",
        "\n",
        "plt.subplot(131)\n",
        "plt.bar(names, values)\n",
        "plt.subplot(132)\n",
        "plt.scatter(names, values)\n",
        "plt.subplot(133)\n",
        "plt.plot(names, values)\n",
        "plt.suptitle('Categorical Plotting')\n",
        "plt.show()\n",
        "```"
      ]
    },
    {
      "cell_type": "code",
      "execution_count": 40,
      "metadata": {},
      "outputs": [],
      "source": []
    },
    {
      "cell_type": "code",
      "execution_count": 28,
      "metadata": {},
      "outputs": [
        {
          "data": {
            "text/plain": [
              "<matplotlib.legend.Legend at 0x17781561310>"
            ]
          },
          "execution_count": 28,
          "metadata": {},
          "output_type": "execute_result"
        }
      ],
      "source": [
        "%matplotlib qt\n",
        "figure = plt.figure(figsize=(10,10))\n",
        "axs = figure.add_subplot(221)\n",
        "current_tag = None\n",
        "for tag in unique_tags:\n",
        "    current_tag  =  df.loc[df.tag_ID==tag]\n",
        "    axs.plot(current_tag.X, current_tag.Y,'-', label=tag,linewidth=1)\n",
        "    break\n",
        "axs.set_title(\"Original data\")\n",
        "axs.set_xlabel(\"X [m]\")\n",
        "axs.set_ylabel(\"Y [m]\")\n",
        "axs.legend()\n"
      ]
    },
    {
      "cell_type": "markdown",
      "metadata": {},
      "source": [
        "That data seems to be rather messy and to contain quite some noise\n",
        "\n",
        "Any filters that we could apply ? how would a moving average filter effect the data?"
      ]
    },
    {
      "cell_type": "code",
      "execution_count": 29,
      "metadata": {},
      "outputs": [],
      "source": [
        "# fig, axs = plt.subplots(2)\n",
        "axs = figure.add_subplot(222)\n",
        "MM_current_tag = current_tag.copy()\n",
        "MM_current_tag.X = current_tag.X.rolling(10).mean()\n",
        "MM_current_tag.Y = current_tag.Y.rolling(10).mean()\n",
        "axs.plot(MM_current_tag.X, MM_current_tag.Y,'-', label=tag,linewidth=1)\n",
        "\n",
        "axs.set_title(\"Moving Avg. 10\")\n",
        "axs.set_xlabel(\"X [m]\")\n",
        "axs.set_ylabel(\"Y [m]\")\n",
        "axs.legend()\n",
        "figure.show()"
      ]
    },
    {
      "cell_type": "code",
      "execution_count": 30,
      "metadata": {},
      "outputs": [],
      "source": [
        "axs = figure.add_subplot(223)\n",
        "MM_current_tag = current_tag.copy()\n",
        "MM_current_tag.X = current_tag.X.rolling(20).mean()\n",
        "MM_current_tag.Y = current_tag.Y.rolling(20).mean()\n",
        "axs.plot(MM_current_tag.X, MM_current_tag.Y,'-', label=tag,linewidth=1)\n",
        "\n",
        "axs.set_title(\"Moving Avg. 20\")\n",
        "axs.set_xlabel(\"X [m]\")\n",
        "axs.set_ylabel(\"Y [m]\")\n",
        "axs.legend()\n",
        "figure.show()"
      ]
    },
    {
      "cell_type": "code",
      "execution_count": 31,
      "metadata": {},
      "outputs": [],
      "source": [
        "axs = figure.add_subplot(224)\n",
        "MM_current_tag = current_tag.copy()\n",
        "MM_current_tag.X = current_tag.X.rolling(30).mean()\n",
        "MM_current_tag.Y = current_tag.Y.rolling(30).mean()\n",
        "axs.plot(MM_current_tag.X, MM_current_tag.Y,'-', label=tag,linewidth=1)\n",
        "\n",
        "axs.set_title(\"Moving Avg. 30\")\n",
        "axs.set_xlabel(\"X [m]\")\n",
        "axs.set_ylabel(\"Y [m]\")\n",
        "axs.legend()\n",
        "figure.show()"
      ]
    },
    {
      "cell_type": "markdown",
      "metadata": {},
      "source": [
        "Describe with words, how a simple moving average effect the data, and its validity\n",
        "#### asd"
      ]
    },
    {
      "cell_type": "markdown",
      "metadata": {},
      "source": [
        "## Now lets try build our own filtering algoritm\n",
        "could we use some domain knowledge about where the tags were placed\n",
        "\n",
        "what about filtering based on speed ? \n",
        "what about filtering based on displacement ?\n",
        "An easy way to get this information from a trajectory is to use [get_derivatives()](https://traja.readthedocs.io/en/latest/calculations.html#derivatives)\n",
        "\n",
        "How do we \"mask\" data ? \n",
        "\n",
        "# add description of data\n",
        "\n"
      ]
    },
    {
      "cell_type": "code",
      "execution_count": 32,
      "metadata": {},
      "outputs": [],
      "source": [
        "df_copy = df.copy()\n",
        "df_copy.timestamp = (df_copy.timestamp.values.astype(float))/1000000000\n",
        "df_copy[['tag_ID','X','Y','timestamp']]\n",
        "\n",
        "\n",
        "df_copy=df_copy.rename(columns={\"X\": \"x\", \"Y\": \"y\",\"timestamp\":\"time\"})\n",
        "\n",
        "figure = plt.figure(figsize=(10,10))\n",
        "axs = figure.add_subplot(221)\n",
        "\n",
        "\n",
        "for tag in unique_tags:\n",
        "    df_tag = df_copy.loc[df_copy.tag_ID == tag]\n",
        "    #just to show that we are dealing with the same tag\n",
        "    axs.plot(df_tag.x, df_tag.y,'-', label=tag,linewidth=1)\n",
        "    break\n",
        "axs.set_title(\"Original Data\")\n",
        "axs.set_xlabel(\"X [m]\")\n",
        "axs.set_ylabel(\"Y [m]\")\n",
        "\n",
        "\n",
        "\n",
        "derivatives = df_tag.traja.get_derivatives() \n",
        "derivatives.head()\n",
        "mask1 = derivatives.speed<2\n",
        "mask2 = derivatives.speed>-2 \n",
        "maskspeed  = mask1 & mask2\n",
        "df_tag_speed = df_tag.loc[maskspeed]\n",
        "\n",
        "axs = figure.add_subplot(222)   \n",
        "axs.plot(df_tag_speed.x, df_tag_speed.y,'-', label=tag,linewidth=1)\n",
        "axs.set_title(\"filter based on speed 2m/s\")\n",
        "axs.set_xlabel(\"X [m]\")\n",
        "axs.set_ylabel(\"Y [m]\")\n",
        "figure.show()\n",
        "\n",
        "mask1 = derivatives.displacement<1\n",
        "mask2 = derivatives.displacement>-1 \n",
        "maskdisplace  = mask1 & mask2\n",
        "df_disp = df_tag_speed.loc[maskdisplace]\n",
        "\n",
        "axs = figure.add_subplot(223)   \n",
        "axs.plot(df_disp.x, df_disp.y,'-', label=tag,linewidth=1)\n",
        "axs.set_title(\"Displacement 1m\")\n",
        "axs.set_xlabel(\"X [m]\")\n",
        "axs.set_ylabel(\"Y [m]\")\n",
        "figure.show()\n",
        "\n"
      ]
    },
    {
      "cell_type": "markdown",
      "metadata": {},
      "source": [
        "## trying another of the shelf filtering algorithm\n",
        "The second filtering algorithm is a more sofisticated one. It is called [Savitzky–Golay](https://www.wikiwand.com/en/Savitzky%E2%80%93Golay_filter). \n",
        "It can be compared to fitting the data to a higher degree polynomial."
      ]
    },
    {
      "cell_type": "code",
      "execution_count": 33,
      "metadata": {},
      "outputs": [],
      "source": [
        "axs = figure.add_subplot(224)\n",
        "sg_filtered = traja.smooth_sg(df_tag_speed,w=7) \n",
        "axs.plot(sg_filtered.x, sg_filtered.y,'-', label=tag,linewidth=1)\n",
        "axs.set_title(\"Savitzky-Golay filtering\")\n",
        "axs.set_xlabel(\"X [m]\")\n",
        "axs.set_ylabel(\"Y [m]\")\n",
        "figure.show()"
      ]
    },
    {
      "cell_type": "markdown",
      "metadata": {},
      "source": [
        "## Playing around with the filter \n",
        "Try to change the polynomial degree of the filter, and see the difference. \n",
        "\n",
        "What effet does the polynomial degree have? "
      ]
    },
    {
      "cell_type": "markdown",
      "metadata": {},
      "source": [
        "## Are there others?\n",
        "\n",
        "Do you happen to know other location data filtering algorithms?\n",
        "\n",
        "What is the most used one for trajectory data?\n",
        "\n",
        "Are there any python implementations available ?\n"
      ]
    },
    {
      "cell_type": "markdown",
      "metadata": {},
      "source": [
        "# Things to consider (in the meeting )\n",
        "What should we add to this lecture? \n",
        "\n",
        "Simple interfacing with BIM ?\n",
        "\n",
        "In area analysis?\n",
        "\n",
        "Crossing analysis?\n",
        "\n",
        "Kepp the amount but make it harder - not give as much code?"
      ]
    }
  ],
  "metadata": {
    "colab": {
      "collapsed_sections": [],
      "name": "DigitalConstructionLecture1.ipynb",
      "provenance": []
    },
    "kernelspec": {
      "display_name": "Python 3",
      "name": "python3"
    },
    "language_info": {
      "codemirror_mode": {
        "name": "ipython",
        "version": 3
      },
      "file_extension": ".py",
      "mimetype": "text/x-python",
      "name": "python",
      "nbconvert_exporter": "python",
      "pygments_lexer": "ipython3",
      "version": "3.9.7"
    }
  },
  "nbformat": 4,
  "nbformat_minor": 0
}
