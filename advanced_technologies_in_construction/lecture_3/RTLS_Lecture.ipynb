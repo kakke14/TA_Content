{
  "cells": [
    {
      "cell_type": "markdown",
      "metadata": {
        "id": "1jrlCqCEdkdN"
      },
      "source": [
        "<table align=\"center\">\n",
        "  \n",
        "</table>\n",
        "\n",
        "\n",
        "<table align=\"center\">\n",
        "<thead>\n",
        "  <tr>\n",
        "    <td align=\"center\"><a target=\"_blank\" href=\"https://cae.au.dk/en/research/key-areas-in-research-and-development/design-and-construction/construction-automation-and-information-technologies/people/\">\n",
        "        <img src=\"https://mbg.au.dk/fileadmin/site_files/mb/Logoer/au/aulogo.jpg\" style=\"padding-bottom:5px;\" height=\"70px\"/></a></td>\n",
        "      <td align=\"center\"><a target=\"_blank\" href=\"https://colab.research.google.com/github/kakke14/TA_Content/blob/master/advanced_technologies_in_construction/lecture_3/RTLS_Lecture.ipynb\">\n",
        "            <img src=\"https://i.ibb.co/2P3SLwK/colab.png\"  style=\"padding-bottom:5px;\"height=\"70px\" /></a></td>\n",
        "      <td align=\"center\"><a target=\"_blank\" href=\"https://github.com/kakke14/TA_Content\">\n",
        "            <img src=\"https://i.ibb.co/xfJbPmL/github.png\"  height=\"70px\" style=\"padding-bottom:5px;\"  /></a></td>\n",
        "            \n",
        "  </tr>\n",
        "</thead>\n",
        "<tbody>\n",
        "  <tr>\n",
        "    <td>Visit AU research Group</td>\n",
        "    <td>Run in Google Colab</td>\n",
        "    <td>View Source on GitHub</td>\n",
        "  </tr>\n",
        "</tbody>\n",
        "</table>"
      ]
    },
    {
      "cell_type": "code",
      "execution_count": null,
      "metadata": {
        "id": "K4mqk9OkeZen"
      },
      "outputs": [],
      "source": [
        "# Copyright 2022 AU Digital Construction. All Rights Reserved.\n",
        "# \n",
        "# Use or modification of this code outside of the course should reference:\n",
        "# Emil L. Jacobsen, Karsten W. Johansen, and Christos Chronopoulos \n",
        "# Lecture Notes Digital Construction 2022"
      ]
    },
    {
      "cell_type": "markdown",
      "metadata": {
        "id": "b7b3p_nVe-fg"
      },
      "source": [
        "# Lecture 3 - Real Time Location Systems\n",
        "In this lecture you will get exposed to Python programming and location data. You will learn how to process the raw data output into tangible knowledge that can be used to analyze trajectories of construction assets.\n",
        "You will encounter several codeblocks with ***TO DO*** written in them. This is where you will have to follow the instructions and fill out the missing code before running the cell."
      ]
    },
    {
      "cell_type": "markdown",
      "metadata": {
        "id": "VjY5qfhGfHF4"
      },
      "source": [
        "## Install dependencies\n",
        "For all colab exercises, we will be needing several python libraries. Some of them will be repeating dependencies for all exercises, while other might only be used in certain examples. For this lecture, we will install the following\n",
        "\n",
        "These libraries are part of the Kernel running i Colab and are therefore redy to be imported with the following lines\n"
      ]
    },
    {
      "cell_type": "code",
      "execution_count": null,
      "metadata": {
        "id": "uLgXvAkUjHQe"
      },
      "outputs": [],
      "source": [
        "import pandas as pd\n",
        "import matplotlib.pyplot as plt"
      ]
    },
    {
      "cell_type": "markdown",
      "metadata": {
        "id": "PL5cDX0FSliO"
      },
      "source": [
        "But how about a library that is not preinstalled ?? Unfortunately Traja is not.... \n",
        "\n",
        "\n",
        "\n",
        "\n"
      ]
    },
    {
      "cell_type": "code",
      "execution_count": null,
      "metadata": {
        "id": "7Uo0uPdBVWYS"
      },
      "outputs": [],
      "source": [
        "import traja"
      ]
    },
    {
      "cell_type": "markdown",
      "metadata": {
        "id": "xAF0bKOcV5eE"
      },
      "source": [
        "How do we get around missing libraries this ?? \n",
        "Normally it would just mean that we had to install the library with the python package manager called pip, using the command 'pip install [package name]'\n",
        "\n",
        "If that is not possible, here is [Hint](https://colab.research.google.com/notebooks/snippets/importing_libraries.ipynb)"
      ]
    },
    {
      "cell_type": "code",
      "execution_count": 2,
      "metadata": {
        "colab": {
          "base_uri": "https://localhost:8080/"
        },
        "id": "yTk7kxTbUgGG",
        "outputId": "6d386be1-37d6-4d83-99b8-4467f773f2e1"
      },
      "outputs": [
        {
          "name": "stdout",
          "output_type": "stream",
          "text": [
            "Requirement already satisfied: Traja in /usr/local/lib/python3.7/dist-packages (0.2.8)\n",
            "Requirement already satisfied: numpy in /usr/local/lib/python3.7/dist-packages (from Traja) (1.19.5)\n",
            "Requirement already satisfied: tzlocal in /usr/local/lib/python3.7/dist-packages (from Traja) (1.5.1)\n",
            "Requirement already satisfied: pandas in /usr/local/lib/python3.7/dist-packages (from Traja) (1.1.5)\n",
            "Requirement already satisfied: matplotlib in /usr/local/lib/python3.7/dist-packages (from Traja) (3.2.2)\n",
            "Requirement already satisfied: scipy in /usr/local/lib/python3.7/dist-packages (from Traja) (1.4.1)\n",
            "Requirement already satisfied: shapely in /usr/local/lib/python3.7/dist-packages (from Traja) (1.8.0)\n",
            "Requirement already satisfied: cycler>=0.10 in /usr/local/lib/python3.7/dist-packages (from matplotlib->Traja) (0.11.0)\n",
            "Requirement already satisfied: kiwisolver>=1.0.1 in /usr/local/lib/python3.7/dist-packages (from matplotlib->Traja) (1.3.2)\n",
            "Requirement already satisfied: pyparsing!=2.0.4,!=2.1.2,!=2.1.6,>=2.0.1 in /usr/local/lib/python3.7/dist-packages (from matplotlib->Traja) (2.4.7)\n",
            "Requirement already satisfied: python-dateutil>=2.1 in /usr/local/lib/python3.7/dist-packages (from matplotlib->Traja) (2.8.2)\n",
            "Requirement already satisfied: six>=1.5 in /usr/local/lib/python3.7/dist-packages (from python-dateutil>=2.1->matplotlib->Traja) (1.15.0)\n",
            "Requirement already satisfied: pytz>=2017.2 in /usr/local/lib/python3.7/dist-packages (from pandas->Traja) (2018.9)\n"
          ]
        }
      ],
      "source": [
        "#### TODO ####\n",
        "# Install Traja lib on the colab Kernel \n",
        "\n",
        "#### Sollution ####\n",
        "\n",
        "!pip install Traja"
      ]
    },
    {
      "cell_type": "markdown",
      "metadata": {
        "id": "W93oxtHvUhR3"
      },
      "source": [
        "Hopefully you managed to install Traja and will be able to run the \"import traja\" line below. \n",
        "\n",
        "Most of the packages in python are well documented and an example is this library, which documentation is available in the following link.\n",
        "\n",
        "[Traja Docs](https://traja.readthedocs.io/en/latest/index.html)\n",
        "\n",
        "We are not going to use Traja just yet but now we knwo how to install libraries if these are not pre-installed"
      ]
    },
    {
      "cell_type": "code",
      "execution_count": 6,
      "metadata": {
        "id": "q1BU84UWSqyr"
      },
      "outputs": [],
      "source": [
        "import traja\n"
      ]
    },
    {
      "cell_type": "markdown",
      "metadata": {
        "id": "dVXFywR9XFfA"
      },
      "source": [
        "### Checkpoint 1\n",
        "Note the the following into a .txt file#\n",
        "\n",
        "1.   What command is used to install libraries in the python package manager?\n",
        "2.   What is needed in order to run the same command in colab?\n",
        "\n"
      ]
    },
    {
      "cell_type": "markdown",
      "metadata": {
        "id": "ea668Bi1Zog9"
      },
      "source": [
        "## Istall the remaining libraries"
      ]
    },
    {
      "cell_type": "code",
      "execution_count": null,
      "metadata": {
        "id": "TgicpKafYJhw"
      },
      "outputs": [],
      "source": []
    }
  ],
  "metadata": {
    "colab": {
      "collapsed_sections": [],
      "name": "DigitalConstructionLecture1.ipynb",
      "provenance": []
    },
    "kernelspec": {
      "display_name": "Python 3",
      "name": "python3"
    },
    "language_info": {
      "codemirror_mode": {
        "name": "ipython",
        "version": 3
      },
      "file_extension": ".py",
      "mimetype": "text/x-python",
      "name": "python",
      "nbconvert_exporter": "python",
      "pygments_lexer": "ipython3",
      "version": "3.9.7"
    }
  },
  "nbformat": 4,
  "nbformat_minor": 0
}
